{
 "cells": [
  {
   "cell_type": "markdown",
   "metadata": {},
   "source": [
    "# Regression"
   ]
  },
  {
   "cell_type": "markdown",
   "metadata": {},
   "source": [
    "The aim of this session is to provide an example of how we can use regression to explain associations and correlations within a dataset. "
   ]
  },
  {
   "cell_type": "markdown",
   "metadata": {},
   "source": [
    "## Preliminary Points\n",
    "\n",
    "In this practical activity, we will be making use of the R statistical programming language to run the analysis. __However__ having a detailed understanding of the R code is not the aim of this activity - in fact, there is no requirement to even look at the code! \n",
    "\n",
    "Our primary goal here is to see how the general principle of regression can be used to draw meaning from data, so that you can build up an appreciation for when such analyses would be appropriate in different digital transformation projects. \n",
    "\n",
    "We do provide the R code for those interested, but we will be focussing on the output and interpretation.\n",
    "\n",
    "You will notice that this session is running using Jupyter notebooks. While, in practice, we would use R directly for analysis in any projects, we make use of Jupyter notebooks here since this allows you to run the analysis without having to install any software on your local machines.\n",
    "\n",
    "You will be guided through the code syntax at each stage, to allow you to start to become familiar with how to change the code according to your own problems/research questions. Again, this is not intended as a comprehensive guide to coding and statistical analysis.\n",
    "\n",
    "Below, you will see a mixture of text and R code, with the later included inside grey 'cells'. When you click inside a code 'cell', you will be able to run the associated code using the \"Run\" box in the menu bar (alternatively select, Cell -> Run Cells)."
   ]
  },
  {
   "cell_type": "markdown",
   "metadata": {},
   "source": [
    "## The Data\n",
    "\n",
    "For this activity, we will be using a dataset called \"Framingham\"."
   ]
  },
  {
   "cell_type": "code",
   "execution_count": 1,
   "metadata": {},
   "outputs": [],
   "source": [
    "frmgham_data <- read.csv(\"frmgham2.csv\", header = TRUE)"
   ]
  },
  {
   "cell_type": "code",
   "execution_count": 2,
   "metadata": {},
   "outputs": [
    {
     "data": {
      "text/plain": [
       "     RANDID             SEX           TOTCHOL           AGE       \n",
       " Min.   :   2448   Min.   :1.000   Min.   :107.0   Min.   :32.00  \n",
       " 1st Qu.:2474378   1st Qu.:1.000   1st Qu.:210.0   1st Qu.:48.00  \n",
       " Median :5006008   Median :2.000   Median :238.0   Median :54.00  \n",
       " Mean   :5004741   Mean   :1.568   Mean   :241.2   Mean   :54.79  \n",
       " 3rd Qu.:7472730   3rd Qu.:2.000   3rd Qu.:268.0   3rd Qu.:62.00  \n",
       " Max.   :9999312   Max.   :2.000   Max.   :696.0   Max.   :81.00  \n",
       "                                   NA's   :409                    \n",
       "     SYSBP           DIABP           CURSMOKE         CIGPDAY     \n",
       " Min.   : 83.5   Min.   : 30.00   Min.   :0.0000   Min.   : 0.00  \n",
       " 1st Qu.:120.0   1st Qu.: 75.00   1st Qu.:0.0000   1st Qu.: 0.00  \n",
       " Median :132.0   Median : 82.00   Median :0.0000   Median : 0.00  \n",
       " Mean   :136.3   Mean   : 83.04   Mean   :0.4325   Mean   : 8.25  \n",
       " 3rd Qu.:149.0   3rd Qu.: 90.00   3rd Qu.:1.0000   3rd Qu.:20.00  \n",
       " Max.   :295.0   Max.   :150.00   Max.   :1.0000   Max.   :90.00  \n",
       "                                                   NA's   :79     \n",
       "      BMI           DIABETES           BPMEDS          HEARTRTE     \n",
       " Min.   :14.43   Min.   :0.00000   Min.   :0.0000   Min.   : 37.00  \n",
       " 1st Qu.:23.09   1st Qu.:0.00000   1st Qu.:0.0000   1st Qu.: 69.00  \n",
       " Median :25.48   Median :0.00000   Median :0.0000   Median : 75.00  \n",
       " Mean   :25.88   Mean   :0.04558   Mean   :0.0856   Mean   : 76.78  \n",
       " 3rd Qu.:28.07   3rd Qu.:0.00000   3rd Qu.:0.0000   3rd Qu.: 85.00  \n",
       " Max.   :56.80   Max.   :1.00000   Max.   :1.0000   Max.   :220.00  \n",
       " NA's   :52                        NA's   :593      NA's   :6       \n",
       "    GLUCOSE            educ         PREVCHD            PREVAP       \n",
       " Min.   : 39.00   Min.   :1.00   Min.   :0.00000   Min.   :0.00000  \n",
       " 1st Qu.: 72.00   1st Qu.:1.00   1st Qu.:0.00000   1st Qu.:0.00000  \n",
       " Median : 80.00   Median :2.00   Median :0.00000   Median :0.00000  \n",
       " Mean   : 84.12   Mean   :1.99   Mean   :0.07242   Mean   :0.05393  \n",
       " 3rd Qu.: 89.00   3rd Qu.:3.00   3rd Qu.:0.00000   3rd Qu.:0.00000  \n",
       " Max.   :478.00   Max.   :4.00   Max.   :1.00000   Max.   :1.00000  \n",
       " NA's   :1440     NA's   :295                                       \n",
       "     PREVMI           PREVSTRK          PREVHYP            TIME     \n",
       " Min.   :0.00000   Min.   :0.00000   Min.   :0.0000   Min.   :   0  \n",
       " 1st Qu.:0.00000   1st Qu.:0.00000   1st Qu.:0.0000   1st Qu.:   0  \n",
       " Median :0.00000   Median :0.00000   Median :0.0000   Median :2156  \n",
       " Mean   :0.03217   Mean   :0.01307   Mean   :0.4596   Mean   :1957  \n",
       " 3rd Qu.:0.00000   3rd Qu.:0.00000   3rd Qu.:1.0000   3rd Qu.:4252  \n",
       " Max.   :1.00000   Max.   :1.00000   Max.   :1.0000   Max.   :4854  \n",
       "                                                                    \n",
       "     PERIOD           HDLC             LDLC           DEATH       \n",
       " Min.   :1.000   Min.   : 10.00   Min.   : 20.0   Min.   :0.0000  \n",
       " 1st Qu.:1.000   1st Qu.: 39.00   1st Qu.:145.0   1st Qu.:0.0000  \n",
       " Median :2.000   Median : 48.00   Median :173.0   Median :0.0000  \n",
       " Mean   :1.899   Mean   : 49.37   Mean   :176.5   Mean   :0.3033  \n",
       " 3rd Qu.:3.000   3rd Qu.: 58.00   3rd Qu.:205.0   3rd Qu.:1.0000  \n",
       " Max.   :3.000   Max.   :189.00   Max.   :565.0   Max.   :1.0000  \n",
       "                 NA's   :8600     NA's   :8601                    \n",
       "     ANGINA           HOSPMI           MI_FCHD           ANYCHD      \n",
       " Min.   :0.0000   Min.   :0.00000   Min.   :0.0000   Min.   :0.0000  \n",
       " 1st Qu.:0.0000   1st Qu.:0.00000   1st Qu.:0.0000   1st Qu.:0.0000  \n",
       " Median :0.0000   Median :0.00000   Median :0.0000   Median :0.0000  \n",
       " Mean   :0.1636   Mean   :0.09925   Mean   :0.1538   Mean   :0.2716  \n",
       " 3rd Qu.:0.0000   3rd Qu.:0.00000   3rd Qu.:0.0000   3rd Qu.:1.0000  \n",
       " Max.   :1.0000   Max.   :1.00000   Max.   :1.0000   Max.   :1.0000  \n",
       "                                                                     \n",
       "     STROKE             CVD            HYPERTEN          TIMEAP    \n",
       " Min.   :0.00000   Min.   :0.0000   Min.   :0.0000   Min.   :   0  \n",
       " 1st Qu.:0.00000   1st Qu.:0.0000   1st Qu.:0.0000   1st Qu.:6224  \n",
       " Median :0.00000   Median :0.0000   Median :1.0000   Median :8766  \n",
       " Mean   :0.09125   Mean   :0.2493   Mean   :0.7433   Mean   :7242  \n",
       " 3rd Qu.:0.00000   3rd Qu.:0.0000   3rd Qu.:1.0000   3rd Qu.:8766  \n",
       " Max.   :1.00000   Max.   :1.0000   Max.   :1.0000   Max.   :8766  \n",
       "                                                                   \n",
       "     TIMEMI        TIMEMIFC       TIMECHD        TIMESTRK       TIMECVD    \n",
       " Min.   :   0   Min.   :   0   Min.   :   0   Min.   :   0   Min.   :   0  \n",
       " 1st Qu.:7212   1st Qu.:7050   1st Qu.:5598   1st Qu.:7295   1st Qu.:6004  \n",
       " Median :8766   Median :8766   Median :8766   Median :8766   Median :8766  \n",
       " Mean   :7594   Mean   :7543   Mean   :7008   Mean   :7661   Mean   :7166  \n",
       " 3rd Qu.:8766   3rd Qu.:8766   3rd Qu.:8766   3rd Qu.:8766   3rd Qu.:8766  \n",
       " Max.   :8766   Max.   :8766   Max.   :8766   Max.   :8766   Max.   :8766  \n",
       "                                                                           \n",
       "    TIMEDTH        TIMEHYP    \n",
       " Min.   :  26   Min.   :   0  \n",
       " 1st Qu.:7798   1st Qu.:   0  \n",
       " Median :8766   Median :2429  \n",
       " Mean   :7854   Mean   :3599  \n",
       " 3rd Qu.:8766   3rd Qu.:7329  \n",
       " Max.   :8766   Max.   :8766  \n",
       "                              "
      ]
     },
     "metadata": {},
     "output_type": "display_data"
    }
   ],
   "source": [
    "summary(frmgham_data)"
   ]
  },
  {
   "cell_type": "code",
   "execution_count": null,
   "metadata": {},
   "outputs": [],
   "source": []
  }
 ],
 "metadata": {
  "kernelspec": {
   "display_name": "R",
   "language": "R",
   "name": "ir"
  },
  "language_info": {
   "codemirror_mode": "r",
   "file_extension": ".r",
   "mimetype": "text/x-r-source",
   "name": "R",
   "pygments_lexer": "r",
   "version": "3.6.1"
  }
 },
 "nbformat": 4,
 "nbformat_minor": 2
}
