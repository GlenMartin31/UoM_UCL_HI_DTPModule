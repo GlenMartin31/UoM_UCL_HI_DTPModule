{
 "cells": [
  {
   "cell_type": "markdown",
   "metadata": {},
   "source": [
    "# MSc HI DTP Module: Week 3 workshop\n"
   ]
  },
  {
   "cell_type": "markdown",
   "metadata": {},
   "source": [
    "## Summarising, Analysing and Communicating Data\n",
    "A key part of designing a digital transformation project (or any research project for that matter!) is understanding and documenting what you will \"do\" with the data. To do this, it is vital that you are able to compare and contrast a range of research methods/appraoches so that you are able to choose an appropriate one for a specified problem. \n",
    "\n",
    "Rather than teaching a set of techniques to be applied in different situations, we will take a more problem-centric approach, which views the documentation of the specific/exact statistical methods as just one element of the process of designing and conducting a (digital transformation) research project. In other words, the goal here is not to teach a collection of statistical methods, but rather gain appreciation that statistics and statistical design is a problem-solving and decision-making process that is fundamental to scientific inquiry and essential for making sound decisions. \n",
    "\n",
    "To do this, one can view the statistical design process as a cycle of: (i) problem, (ii) plan, (iii) data, (iv) analysis, and (v) conclusion. We have already started exploring some of these topics in earlier weeks of this DTP module. Specifically, stage (i) concerns understanding and defining the problem; in other words: what is the specific question you are interested in answering from the project? Stage (ii) is planning, where we seek to design the study to answer the problem: i.e. what type of study design will we use (e.g. case-control, cohort, routine data, etc.), what variables/information/outcomes will be needed and how will these be measured/defined? Only after we have carefully defined the problem and plan can we move to think about the data (stage iii) in terms of how will you record the data (or obtain it if seeking previously collected data), how will you need to clean and wrangle it prior to analysis? Stages (iv) and (v) cover how we will actually analyse the data and communicate the resuls, respectively. \n",
    "\n",
    "In weeks 1 and 2 of this module, you have already started to think about stages (i) and (ii) in terms of your DTP cases study. In these weeks (3 & 4), we are interested in stages (iii) and (iv). In the lectures we have explored the data landscape, which can inform stage (iii) of the design cycle. In this workshop, we will start to think about different \"types\" of statistical analysis so you can gain an appreciation of which \"type\" might be most appropriate for your DTP case studies (and more generally in your future careers!).\n",
    "\n",
    "Specifically, the aim of this workshop session is to introduce the notion of summarising data using descriptive statistics. We will do this through running analyses on real-data using the R statistical programming language. __However__ having a detailed understanding of the R code is not the aim of this activity - in fact, there is no requirement to even look at the code! Moreover, as noted above, it is equally __not__ the goal to cover all statistical methods. Our primary goal is to see how the general principles can be used to draw meaning from data, so that you can build up an appreciation for when different types of statistical analyses would be appropriate in different digital transformation projects. \n",
    "\n",
    "### Notes about the software used in this workshop\n",
    "You will notice that this session is running using Jupyter notebooks. While, in practice, we might use R directly for analysis, we make use of Jupyter notebooks here since this allows you to run the analysis without having to install any software on your local machines.\n",
    "\n",
    "You will be guided through the code syntax at each stage, to allow you to start to become familiar with how to change the code according to your own problems/research questions. Again, this is not intended as a comprehensive guide to coding and statistical analysis. To reiterate, you could easily skip over the code if you wish: focus on the interpretation and what inference we can draw from different types of analysis.\n",
    "\n",
    "Below, you will see a mixture of text and R code, with the later included inside grey 'cells'. When you click inside a code 'cell', you will be able to run the associated code using the \"Run\" box in the menu bar (alternatively select, Cell -> Run Cells)."
   ]
  },
  {
   "attachments": {},
   "cell_type": "markdown",
   "metadata": {},
   "source": [
    "## \"Types\" of Statistical Analysis\n",
    "\n",
    "Broadly speaking, there are three broad “types” of common research questions when analysing data: \n",
    "\n",
    "1) Description\n",
    "\n",
    "2) Causation\n",
    "\n",
    "3) Regression/ Prediction\n",
    "\n",
    "The type of statistical analysis largely depends on the underlying research question (i.e. stage i of our design cycle: problem), the design of the study (i.e. stage ii of our design cycle: planning) and the type of data/outcomes we plan to analyse (i.e. stage iii of our design cycle: data).\n",
    "\n",
    "In this workshop, we will focus on type 1 (description), and we will cover the other types in week 4."
   ]
  },
  {
   "cell_type": "markdown",
   "metadata": {},
   "source": [
    "## The Data\n",
    "\n",
    "For this activity, we will be using a dataset called \"Framingham\". The Framingham Heart Study is a long term prospective study of the etiology of cardiovascular disease among a population of free living subjects in the community of Framingham, Massachusetts. The Framingham Heart Study was a landmark study in epidemiology in that it was the first prospective study of cardiovascular disease and identified the concept of risk factors and their joint effects. The study began in 1948 and 5209 subjects were initially enrolled in the study. Participants have been examined biennially since the inception of the study and all subjects are continuously followed through regular surveillance for cardiovascular outcomes. Clinic examination data has included cardiovascular disease risk factors and markers of disease such as blood pressure, blood chemistry, lung function, smoking history, health behaviors, ECG tracings, Echocardiography, and medication use. Through regular surveillance of area hospitals, participant contact, and death certificates, the Framingham Heart Study reviews and adjudicates events for the occurrence of Angina Pectoris, Myocardial Infarction, Heart Failure, and Cerebrovascular disease.\n",
    "\n",
    "For this practical activity, we will be exploring an anonymous subset/extract of these data."
   ]
  },
  {
   "cell_type": "markdown",
   "metadata": {},
   "source": [
    "## Load the data\n",
    "\n",
    "To begin exploring these data, we first need to load it into the session. The data are stored in csv format, and the R code to load the data is as follows (noting, again, that there is no expectation for you to delve deep into R coding in this activity):"
   ]
  },
  {
   "cell_type": "code",
   "execution_count": 6,
   "metadata": {},
   "outputs": [],
   "source": [
    "frmgham_data <- read.csv(\"frmgham2.csv\", header = TRUE)"
   ]
  },
  {
   "cell_type": "markdown",
   "metadata": {},
   "source": [
    "The meaning of this code is that it takes the Framingham csv file and assigns it (the \"<-\" symbol) to a variable called frmgham_data: in other words, we have loaded the data, and we can analyse the data by applying R functions to the frmgham_data variable. \n",
    "\n",
    "We can take a look at the first few rows of the data and see the size of the data as follows:"
   ]
  },
  {
   "cell_type": "code",
   "execution_count": 7,
   "metadata": {},
   "outputs": [
    {
     "data": {
      "text/html": [
       "<table>\n",
       "<thead><tr><th scope=col>RANDID</th><th scope=col>SEX</th><th scope=col>TOTCHOL</th><th scope=col>AGE</th><th scope=col>SYSBP</th><th scope=col>DIABP</th><th scope=col>CURSMOKE</th><th scope=col>CIGPDAY</th><th scope=col>BMI</th><th scope=col>DIABETES</th><th scope=col>...</th><th scope=col>CVD</th><th scope=col>HYPERTEN</th><th scope=col>TIMEAP</th><th scope=col>TIMEMI</th><th scope=col>TIMEMIFC</th><th scope=col>TIMECHD</th><th scope=col>TIMESTRK</th><th scope=col>TIMECVD</th><th scope=col>TIMEDTH</th><th scope=col>TIMEHYP</th></tr></thead>\n",
       "<tbody>\n",
       "\t<tr><td>2448 </td><td>1    </td><td>195  </td><td>39   </td><td>106.0</td><td>70.0 </td><td>0    </td><td> 0   </td><td>26.97</td><td>0    </td><td>...  </td><td>1    </td><td>0    </td><td>8766 </td><td>6438 </td><td>6438 </td><td>6438 </td><td>8766 </td><td>6438 </td><td>8766 </td><td>8766 </td></tr>\n",
       "\t<tr><td>2448 </td><td>1    </td><td>209  </td><td>52   </td><td>121.0</td><td>66.0 </td><td>0    </td><td> 0   </td><td>   NA</td><td>0    </td><td>...  </td><td>1    </td><td>0    </td><td>8766 </td><td>6438 </td><td>6438 </td><td>6438 </td><td>8766 </td><td>6438 </td><td>8766 </td><td>8766 </td></tr>\n",
       "\t<tr><td>6238 </td><td>2    </td><td>250  </td><td>46   </td><td>121.0</td><td>81.0 </td><td>0    </td><td> 0   </td><td>28.73</td><td>0    </td><td>...  </td><td>0    </td><td>0    </td><td>8766 </td><td>8766 </td><td>8766 </td><td>8766 </td><td>8766 </td><td>8766 </td><td>8766 </td><td>8766 </td></tr>\n",
       "\t<tr><td>6238 </td><td>2    </td><td>260  </td><td>52   </td><td>105.0</td><td>69.5 </td><td>0    </td><td> 0   </td><td>29.43</td><td>0    </td><td>...  </td><td>0    </td><td>0    </td><td>8766 </td><td>8766 </td><td>8766 </td><td>8766 </td><td>8766 </td><td>8766 </td><td>8766 </td><td>8766 </td></tr>\n",
       "\t<tr><td>6238 </td><td>2    </td><td>237  </td><td>58   </td><td>108.0</td><td>66.0 </td><td>0    </td><td> 0   </td><td>28.50</td><td>0    </td><td>...  </td><td>0    </td><td>0    </td><td>8766 </td><td>8766 </td><td>8766 </td><td>8766 </td><td>8766 </td><td>8766 </td><td>8766 </td><td>8766 </td></tr>\n",
       "\t<tr><td>9428 </td><td>1    </td><td>245  </td><td>48   </td><td>127.5</td><td>80.0 </td><td>1    </td><td>20   </td><td>25.34</td><td>0    </td><td>...  </td><td>0    </td><td>0    </td><td>8766 </td><td>8766 </td><td>8766 </td><td>8766 </td><td>8766 </td><td>8766 </td><td>8766 </td><td>8766 </td></tr>\n",
       "</tbody>\n",
       "</table>\n"
      ],
      "text/latex": [
       "\\begin{tabular}{r|lllllllllllllllllllllllllllllllllllllll}\n",
       " RANDID & SEX & TOTCHOL & AGE & SYSBP & DIABP & CURSMOKE & CIGPDAY & BMI & DIABETES & ... & CVD & HYPERTEN & TIMEAP & TIMEMI & TIMEMIFC & TIMECHD & TIMESTRK & TIMECVD & TIMEDTH & TIMEHYP\\\\\n",
       "\\hline\n",
       "\t 2448  & 1     & 195   & 39    & 106.0 & 70.0  & 0     &  0    & 26.97 & 0     & ...   & 1     & 0     & 8766  & 6438  & 6438  & 6438  & 8766  & 6438  & 8766  & 8766 \\\\\n",
       "\t 2448  & 1     & 209   & 52    & 121.0 & 66.0  & 0     &  0    &    NA & 0     & ...   & 1     & 0     & 8766  & 6438  & 6438  & 6438  & 8766  & 6438  & 8766  & 8766 \\\\\n",
       "\t 6238  & 2     & 250   & 46    & 121.0 & 81.0  & 0     &  0    & 28.73 & 0     & ...   & 0     & 0     & 8766  & 8766  & 8766  & 8766  & 8766  & 8766  & 8766  & 8766 \\\\\n",
       "\t 6238  & 2     & 260   & 52    & 105.0 & 69.5  & 0     &  0    & 29.43 & 0     & ...   & 0     & 0     & 8766  & 8766  & 8766  & 8766  & 8766  & 8766  & 8766  & 8766 \\\\\n",
       "\t 6238  & 2     & 237   & 58    & 108.0 & 66.0  & 0     &  0    & 28.50 & 0     & ...   & 0     & 0     & 8766  & 8766  & 8766  & 8766  & 8766  & 8766  & 8766  & 8766 \\\\\n",
       "\t 9428  & 1     & 245   & 48    & 127.5 & 80.0  & 1     & 20    & 25.34 & 0     & ...   & 0     & 0     & 8766  & 8766  & 8766  & 8766  & 8766  & 8766  & 8766  & 8766 \\\\\n",
       "\\end{tabular}\n"
      ],
      "text/markdown": [
       "\n",
       "| RANDID | SEX | TOTCHOL | AGE | SYSBP | DIABP | CURSMOKE | CIGPDAY | BMI | DIABETES | ... | CVD | HYPERTEN | TIMEAP | TIMEMI | TIMEMIFC | TIMECHD | TIMESTRK | TIMECVD | TIMEDTH | TIMEHYP |\n",
       "|---|---|---|---|---|---|---|---|---|---|---|---|---|---|---|---|---|---|---|---|---|\n",
       "| 2448  | 1     | 195   | 39    | 106.0 | 70.0  | 0     |  0    | 26.97 | 0     | ...   | 1     | 0     | 8766  | 6438  | 6438  | 6438  | 8766  | 6438  | 8766  | 8766  |\n",
       "| 2448  | 1     | 209   | 52    | 121.0 | 66.0  | 0     |  0    |    NA | 0     | ...   | 1     | 0     | 8766  | 6438  | 6438  | 6438  | 8766  | 6438  | 8766  | 8766  |\n",
       "| 6238  | 2     | 250   | 46    | 121.0 | 81.0  | 0     |  0    | 28.73 | 0     | ...   | 0     | 0     | 8766  | 8766  | 8766  | 8766  | 8766  | 8766  | 8766  | 8766  |\n",
       "| 6238  | 2     | 260   | 52    | 105.0 | 69.5  | 0     |  0    | 29.43 | 0     | ...   | 0     | 0     | 8766  | 8766  | 8766  | 8766  | 8766  | 8766  | 8766  | 8766  |\n",
       "| 6238  | 2     | 237   | 58    | 108.0 | 66.0  | 0     |  0    | 28.50 | 0     | ...   | 0     | 0     | 8766  | 8766  | 8766  | 8766  | 8766  | 8766  | 8766  | 8766  |\n",
       "| 9428  | 1     | 245   | 48    | 127.5 | 80.0  | 1     | 20    | 25.34 | 0     | ...   | 0     | 0     | 8766  | 8766  | 8766  | 8766  | 8766  | 8766  | 8766  | 8766  |\n",
       "\n"
      ],
      "text/plain": [
       "  RANDID SEX TOTCHOL AGE SYSBP DIABP CURSMOKE CIGPDAY BMI   DIABETES ... CVD\n",
       "1 2448   1   195     39  106.0 70.0  0         0      26.97 0        ... 1  \n",
       "2 2448   1   209     52  121.0 66.0  0         0         NA 0        ... 1  \n",
       "3 6238   2   250     46  121.0 81.0  0         0      28.73 0        ... 0  \n",
       "4 6238   2   260     52  105.0 69.5  0         0      29.43 0        ... 0  \n",
       "5 6238   2   237     58  108.0 66.0  0         0      28.50 0        ... 0  \n",
       "6 9428   1   245     48  127.5 80.0  1        20      25.34 0        ... 0  \n",
       "  HYPERTEN TIMEAP TIMEMI TIMEMIFC TIMECHD TIMESTRK TIMECVD TIMEDTH TIMEHYP\n",
       "1 0        8766   6438   6438     6438    8766     6438    8766    8766   \n",
       "2 0        8766   6438   6438     6438    8766     6438    8766    8766   \n",
       "3 0        8766   8766   8766     8766    8766     8766    8766    8766   \n",
       "4 0        8766   8766   8766     8766    8766     8766    8766    8766   \n",
       "5 0        8766   8766   8766     8766    8766     8766    8766    8766   \n",
       "6 0        8766   8766   8766     8766    8766     8766    8766    8766   "
      ]
     },
     "metadata": {},
     "output_type": "display_data"
    },
    {
     "data": {
      "text/html": [
       "<ol class=list-inline>\n",
       "\t<li>11627</li>\n",
       "\t<li>39</li>\n",
       "</ol>\n"
      ],
      "text/latex": [
       "\\begin{enumerate*}\n",
       "\\item 11627\n",
       "\\item 39\n",
       "\\end{enumerate*}\n"
      ],
      "text/markdown": [
       "1. 11627\n",
       "2. 39\n",
       "\n",
       "\n"
      ],
      "text/plain": [
       "[1] 11627    39"
      ]
     },
     "metadata": {},
     "output_type": "display_data"
    }
   ],
   "source": [
    "head(frmgham_data)\n",
    "dim(frmgham_data)"
   ]
  },
  {
   "cell_type": "markdown",
   "metadata": {},
   "source": [
    "The top part of this output shows the first 6 rows of data, with each variable given in the columns (note this is similar output to what one might see in Excel, for example). The output below the table tells us that there are 11627 rows of data and 39 columns.\n",
    "\n",
    "Note from the view of the data that some patients (RANDID gives a randomly-assigned patient ID) appear on multiple rows. This is because the study design is a longitudinal study, where an individual was follow-up at multiple timepoints and data was colected at each visit. Therefore, each row of data is a \"visit\". Further details of the dataset can be found on the Moodle page for this module.\n",
    "\n",
    "## Descriptive statistics\n",
    "\n",
    "For the design (and implementation) of any digital transformation project (or indeed any data-based project), you will need to start by summarising the data. At the design stage, this will involve stating how you will do this. A principal role of studying Health Data is to describe and explain differences in the distribution of disease or other health outcomes of interest between populations.\n",
    "\n",
    "Health data studies often generate a large volume of data. Summarising this can help draw out patterns and results.\n",
    "There are four principal methods used to summarise data:\n",
    "\n",
    "1)\tUsing simple frequencies - the number of times something occurs in a data set. This makes it possible to determine if the specific value we are interested in is unusual or common.\n",
    "\n",
    "2)\tMeasures of location\n",
    "\n",
    "- Mean - also known as the average\n",
    "\n",
    "- Median - the middle value in the ranked observations, used when the data is asymmetric.\n",
    "\n",
    "- Mode - the value of the random variable in the sample which occurs with the highest frequency.\n",
    "\n",
    "3)\tMeasures of spread\n",
    "\n",
    "- Range - the difference between the largest and smallest observations\n",
    "\n",
    "- Interquartile Range - describes the middle half of the data, between the 25th and 75th centiles, reducing the effect of outlying observations\n",
    "\n",
    "- Variance and standard deviation\n",
    "\n",
    "4)\tGraphical methods\n",
    "\n",
    "- Box plots - visual presentation of the quartiles of the data\n",
    "\n",
    "- Histograms - graphical presentation of the shape of a data distribution, which we look at later.\n",
    "\n",
    "At the analysis stage, designing which of these you will use depends on the types of data you plan to collect in your study. In other words, are the data continuous (measures that can take any number to - at least in principle - any degree of precision), count (measurements that can only take integer values: i.e. 0, 1, 2,...), or categorical (measures that only take one of a number of levels: e.g. blood type of A, B, AB or O). \n",
    "\n",
    "__Activity: At this point in the workshop, consider your DTP case study: what types of data do you plan to collect? Which of the above summary measures do you think would be appropriate? Make a note of these, as you begin to draft the statistical analysis section of your portfolio.__"
   ]
  },
  {
   "cell_type": "markdown",
   "metadata": {},
   "source": [
    "## Practical Exploration of Framingham data\n",
    "\n",
    "To build an understanding of what types of descriptive statistics might be appropriate in different situations, we will now apply some of the above methods to the Framingham dataset. To make the interpretation easier, we might consider only the first \"visit\" for each patient - this is commonly termed the baseline summary. We will apply a filer to the dataset, to extract each individual's first set of measurements:"
   ]
  },
  {
   "cell_type": "code",
   "execution_count": 9,
   "metadata": {},
   "outputs": [
    {
     "data": {
      "text/html": [
       "<table>\n",
       "<thead><tr><th></th><th scope=col>RANDID</th><th scope=col>SEX</th><th scope=col>TOTCHOL</th><th scope=col>AGE</th><th scope=col>SYSBP</th><th scope=col>DIABP</th><th scope=col>CURSMOKE</th><th scope=col>CIGPDAY</th><th scope=col>BMI</th><th scope=col>DIABETES</th><th scope=col>...</th><th scope=col>CVD</th><th scope=col>HYPERTEN</th><th scope=col>TIMEAP</th><th scope=col>TIMEMI</th><th scope=col>TIMEMIFC</th><th scope=col>TIMECHD</th><th scope=col>TIMESTRK</th><th scope=col>TIMECVD</th><th scope=col>TIMEDTH</th><th scope=col>TIMEHYP</th></tr></thead>\n",
       "<tbody>\n",
       "\t<tr><th scope=row>1</th><td> 2448</td><td>1    </td><td>195  </td><td>39   </td><td>106.0</td><td> 70  </td><td>0    </td><td> 0   </td><td>26.97</td><td>0    </td><td>...  </td><td>1    </td><td>0    </td><td>8766 </td><td>6438 </td><td>6438 </td><td>6438 </td><td>8766 </td><td>6438 </td><td>8766 </td><td>8766 </td></tr>\n",
       "\t<tr><th scope=row>3</th><td> 6238</td><td>2    </td><td>250  </td><td>46   </td><td>121.0</td><td> 81  </td><td>0    </td><td> 0   </td><td>28.73</td><td>0    </td><td>...  </td><td>0    </td><td>0    </td><td>8766 </td><td>8766 </td><td>8766 </td><td>8766 </td><td>8766 </td><td>8766 </td><td>8766 </td><td>8766 </td></tr>\n",
       "\t<tr><th scope=row>6</th><td> 9428</td><td>1    </td><td>245  </td><td>48   </td><td>127.5</td><td> 80  </td><td>1    </td><td>20   </td><td>25.34</td><td>0    </td><td>...  </td><td>0    </td><td>0    </td><td>8766 </td><td>8766 </td><td>8766 </td><td>8766 </td><td>8766 </td><td>8766 </td><td>8766 </td><td>8766 </td></tr>\n",
       "\t<tr><th scope=row>8</th><td>10552</td><td>2    </td><td>225  </td><td>61   </td><td>150.0</td><td> 95  </td><td>1    </td><td>30   </td><td>28.58</td><td>0    </td><td>...  </td><td>1    </td><td>1    </td><td>2956 </td><td>2956 </td><td>2956 </td><td>2956 </td><td>2089 </td><td>2089 </td><td>2956 </td><td>   0 </td></tr>\n",
       "\t<tr><th scope=row>10</th><td>11252</td><td>2    </td><td>285  </td><td>46   </td><td>130.0</td><td> 84  </td><td>1    </td><td>23   </td><td>23.10</td><td>0    </td><td>...  </td><td>0    </td><td>1    </td><td>8766 </td><td>8766 </td><td>8766 </td><td>8766 </td><td>8766 </td><td>8766 </td><td>8766 </td><td>4285 </td></tr>\n",
       "\t<tr><th scope=row>13</th><td>11263</td><td>2    </td><td>228  </td><td>43   </td><td>180.0</td><td>110  </td><td>0    </td><td> 0   </td><td>30.30</td><td>0    </td><td>...  </td><td>1    </td><td>1    </td><td>8766 </td><td>8766 </td><td>5719 </td><td>5719 </td><td>8766 </td><td>5719 </td><td>8766 </td><td>   0 </td></tr>\n",
       "</tbody>\n",
       "</table>\n"
      ],
      "text/latex": [
       "\\begin{tabular}{r|lllllllllllllllllllllllllllllllllllllll}\n",
       "  & RANDID & SEX & TOTCHOL & AGE & SYSBP & DIABP & CURSMOKE & CIGPDAY & BMI & DIABETES & ... & CVD & HYPERTEN & TIMEAP & TIMEMI & TIMEMIFC & TIMECHD & TIMESTRK & TIMECVD & TIMEDTH & TIMEHYP\\\\\n",
       "\\hline\n",
       "\t1 &  2448 & 1     & 195   & 39    & 106.0 &  70   & 0     &  0    & 26.97 & 0     & ...   & 1     & 0     & 8766  & 6438  & 6438  & 6438  & 8766  & 6438  & 8766  & 8766 \\\\\n",
       "\t3 &  6238 & 2     & 250   & 46    & 121.0 &  81   & 0     &  0    & 28.73 & 0     & ...   & 0     & 0     & 8766  & 8766  & 8766  & 8766  & 8766  & 8766  & 8766  & 8766 \\\\\n",
       "\t6 &  9428 & 1     & 245   & 48    & 127.5 &  80   & 1     & 20    & 25.34 & 0     & ...   & 0     & 0     & 8766  & 8766  & 8766  & 8766  & 8766  & 8766  & 8766  & 8766 \\\\\n",
       "\t8 & 10552 & 2     & 225   & 61    & 150.0 &  95   & 1     & 30    & 28.58 & 0     & ...   & 1     & 1     & 2956  & 2956  & 2956  & 2956  & 2089  & 2089  & 2956  &    0 \\\\\n",
       "\t10 & 11252 & 2     & 285   & 46    & 130.0 &  84   & 1     & 23    & 23.10 & 0     & ...   & 0     & 1     & 8766  & 8766  & 8766  & 8766  & 8766  & 8766  & 8766  & 4285 \\\\\n",
       "\t13 & 11263 & 2     & 228   & 43    & 180.0 & 110   & 0     &  0    & 30.30 & 0     & ...   & 1     & 1     & 8766  & 8766  & 5719  & 5719  & 8766  & 5719  & 8766  &    0 \\\\\n",
       "\\end{tabular}\n"
      ],
      "text/markdown": [
       "\n",
       "| <!--/--> | RANDID | SEX | TOTCHOL | AGE | SYSBP | DIABP | CURSMOKE | CIGPDAY | BMI | DIABETES | ... | CVD | HYPERTEN | TIMEAP | TIMEMI | TIMEMIFC | TIMECHD | TIMESTRK | TIMECVD | TIMEDTH | TIMEHYP |\n",
       "|---|---|---|---|---|---|---|---|---|---|---|---|---|---|---|---|---|---|---|---|---|---|\n",
       "| 1 |  2448 | 1     | 195   | 39    | 106.0 |  70   | 0     |  0    | 26.97 | 0     | ...   | 1     | 0     | 8766  | 6438  | 6438  | 6438  | 8766  | 6438  | 8766  | 8766  |\n",
       "| 3 |  6238 | 2     | 250   | 46    | 121.0 |  81   | 0     |  0    | 28.73 | 0     | ...   | 0     | 0     | 8766  | 8766  | 8766  | 8766  | 8766  | 8766  | 8766  | 8766  |\n",
       "| 6 |  9428 | 1     | 245   | 48    | 127.5 |  80   | 1     | 20    | 25.34 | 0     | ...   | 0     | 0     | 8766  | 8766  | 8766  | 8766  | 8766  | 8766  | 8766  | 8766  |\n",
       "| 8 | 10552 | 2     | 225   | 61    | 150.0 |  95   | 1     | 30    | 28.58 | 0     | ...   | 1     | 1     | 2956  | 2956  | 2956  | 2956  | 2089  | 2089  | 2956  |    0  |\n",
       "| 10 | 11252 | 2     | 285   | 46    | 130.0 |  84   | 1     | 23    | 23.10 | 0     | ...   | 0     | 1     | 8766  | 8766  | 8766  | 8766  | 8766  | 8766  | 8766  | 4285  |\n",
       "| 13 | 11263 | 2     | 228   | 43    | 180.0 | 110   | 0     |  0    | 30.30 | 0     | ...   | 1     | 1     | 8766  | 8766  | 5719  | 5719  | 8766  | 5719  | 8766  |    0  |\n",
       "\n"
      ],
      "text/plain": [
       "   RANDID SEX TOTCHOL AGE SYSBP DIABP CURSMOKE CIGPDAY BMI   DIABETES ... CVD\n",
       "1   2448  1   195     39  106.0  70   0         0      26.97 0        ... 1  \n",
       "3   6238  2   250     46  121.0  81   0         0      28.73 0        ... 0  \n",
       "6   9428  1   245     48  127.5  80   1        20      25.34 0        ... 0  \n",
       "8  10552  2   225     61  150.0  95   1        30      28.58 0        ... 1  \n",
       "10 11252  2   285     46  130.0  84   1        23      23.10 0        ... 0  \n",
       "13 11263  2   228     43  180.0 110   0         0      30.30 0        ... 1  \n",
       "   HYPERTEN TIMEAP TIMEMI TIMEMIFC TIMECHD TIMESTRK TIMECVD TIMEDTH TIMEHYP\n",
       "1  0        8766   6438   6438     6438    8766     6438    8766    8766   \n",
       "3  0        8766   8766   8766     8766    8766     8766    8766    8766   \n",
       "6  0        8766   8766   8766     8766    8766     8766    8766    8766   \n",
       "8  1        2956   2956   2956     2956    2089     2089    2956       0   \n",
       "10 1        8766   8766   8766     8766    8766     8766    8766    4285   \n",
       "13 1        8766   8766   5719     5719    8766     5719    8766       0   "
      ]
     },
     "metadata": {},
     "output_type": "display_data"
    },
    {
     "data": {
      "text/html": [
       "<ol class=list-inline>\n",
       "\t<li>4434</li>\n",
       "\t<li>39</li>\n",
       "</ol>\n"
      ],
      "text/latex": [
       "\\begin{enumerate*}\n",
       "\\item 4434\n",
       "\\item 39\n",
       "\\end{enumerate*}\n"
      ],
      "text/markdown": [
       "1. 4434\n",
       "2. 39\n",
       "\n",
       "\n"
      ],
      "text/plain": [
       "[1] 4434   39"
      ]
     },
     "metadata": {},
     "output_type": "display_data"
    }
   ],
   "source": [
    "frmgham_1visit_data <- frmgham_data[!duplicated(frmgham_data$RANDID),] #This row returns only the first observation for each ID\n",
    "head(frmgham_1visit_data)\n",
    "dim(frmgham_1visit_data)"
   ]
  },
  {
   "cell_type": "markdown",
   "metadata": {},
   "source": [
    "After applying the filter, we again explore the first 6 rows of data and the size of the data. We now see that each row of the dataset is each individual's first visit (baseline), which has reduced the size of the dataset to 4434 rows (i.e. 4434 patients in our dataset, since now one row corresponds to one person), with 39 variables still. \n",
    "\n",
    "In terms of summarising this data, the above is not particularly informative. We might additionally want to compute measures of location and spread (using the terminology from the \"Descriptive statistics\" section above). \n",
    "\n",
    "We can see that our dataset includes the age of each participant. We know that this is a continuous variable, so calculating the mean, median, range, interquartile range and variance would each be appropriate. We can do this in R as follows:"
   ]
  },
  {
   "cell_type": "code",
   "execution_count": 11,
   "metadata": {},
   "outputs": [
    {
     "data": {
      "text/html": [
       "49.925800631484"
      ],
      "text/latex": [
       "49.925800631484"
      ],
      "text/markdown": [
       "49.925800631484"
      ],
      "text/plain": [
       "[1] 49.9258"
      ]
     },
     "metadata": {},
     "output_type": "display_data"
    },
    {
     "data": {
      "text/html": [
       "49"
      ],
      "text/latex": [
       "49"
      ],
      "text/markdown": [
       "49"
      ],
      "text/plain": [
       "[1] 49"
      ]
     },
     "metadata": {},
     "output_type": "display_data"
    },
    {
     "data": {
      "text/html": [
       "38"
      ],
      "text/latex": [
       "38"
      ],
      "text/markdown": [
       "38"
      ],
      "text/plain": [
       "[1] 38"
      ]
     },
     "metadata": {},
     "output_type": "display_data"
    },
    {
     "data": {
      "text/html": [
       "<strong>25%:</strong> 42"
      ],
      "text/latex": [
       "\\textbf{25\\textbackslash{}\\%:} 42"
      ],
      "text/markdown": [
       "**25%:** 42"
      ],
      "text/plain": [
       "25% \n",
       " 42 "
      ]
     },
     "metadata": {},
     "output_type": "display_data"
    },
    {
     "data": {
      "text/html": [
       "<strong>75%:</strong> 57"
      ],
      "text/latex": [
       "\\textbf{75\\textbackslash{}\\%:} 57"
      ],
      "text/markdown": [
       "**75%:** 57"
      ],
      "text/plain": [
       "75% \n",
       " 57 "
      ]
     },
     "metadata": {},
     "output_type": "display_data"
    },
    {
     "data": {
      "text/html": [
       "75.2891018289552"
      ],
      "text/latex": [
       "75.2891018289552"
      ],
      "text/markdown": [
       "75.2891018289552"
      ],
      "text/plain": [
       "[1] 75.2891"
      ]
     },
     "metadata": {},
     "output_type": "display_data"
    }
   ],
   "source": [
    "#note: $AGE in the below code means extract the AGE column from frmgham_1visit_data \n",
    "#      we can replace AGE with any of the other column names (e.g. $SYSBP)\n",
    "mean(frmgham_1visit_data$AGE) #calculates the mean\n",
    "median(frmgham_1visit_data$AGE) #calculates the median\n",
    "max(frmgham_1visit_data$AGE) - min(frmgham_1visit_data$AGE) #calculates the range\n",
    "quantile(frmgham_1visit_data$AGE, 0.25) #calculates lower quartile\n",
    "quantile(frmgham_1visit_data$AGE, 0.75) #calculates upper quartile\n",
    "var(frmgham_1visit_data$AGE) #calculates the variance"
   ]
  },
  {
   "cell_type": "markdown",
   "metadata": {},
   "source": [
    "__Activity:__ \n",
    "\n",
    "1) What does the above output tell us? \n",
    "\n",
    "2) In the below empty code cell, write code (or copy from above and modify) that replace AGE in the above code with SYSBP. You can click \"Run\" in the toolbar at the top of this page to execute your code. What does the output tell us about systolic blood pressure in this dataset? \n",
    "\n",
    "3) Modify the code again, to consider at least one other continuous variable. Interpret the results.\n",
    "\n",
    "4) Often, one reports only the mean or the median. Consider when each of these measures are more/less appropriate. (some notes on this at the end of this workshop)"
   ]
  },
  {
   "cell_type": "code",
   "execution_count": null,
   "metadata": {},
   "outputs": [],
   "source": [
    "##You can write R code here, then click the \"Run\" button in the toolbar at the top to execute your code."
   ]
  },
  {
   "cell_type": "markdown",
   "metadata": {},
   "source": [
    "In the above we computed measures of location and spread of continuous variables. Additionally, your DTP might plan to collect discrete/categorical data. Clearly, computing the mean of a categorical variable wouldnt make sense. Therefore, for these variables we must turn to other summary statistics, such as mode (e.g. which category occured most often), or simple freuqnecies of occurence. \n",
    "\n",
    "We explore this in the below code for the variable \"SEX\". You will then have opportunity to adapt the code to consider other categorical variables in this dataset. \n",
    "\n",
    "Note that sex is coded in the data as 1 for men and 2 for women. Coding categorical variables as a particular integer is common in many health datasets (and which is why robust data dictionaries are vital, so end-users of the data know what a 2 for sex means!); you can see a similar thing is done for variables such as DIABETES (0 = no, 1 = yes). You can see the coding of all variables on the pdf file on Moodle.\n",
    "\n",
    "With that being said, lets calculate the number of females in the data, and the corresponding percentage:"
   ]
  },
  {
   "cell_type": "code",
   "execution_count": 12,
   "metadata": {},
   "outputs": [
    {
     "data": {
      "text/html": [
       "2490"
      ],
      "text/latex": [
       "2490"
      ],
      "text/markdown": [
       "2490"
      ],
      "text/plain": [
       "[1] 2490"
      ]
     },
     "metadata": {},
     "output_type": "display_data"
    },
    {
     "data": {
      "text/html": [
       "56.1569688768606"
      ],
      "text/latex": [
       "56.1569688768606"
      ],
      "text/markdown": [
       "56.1569688768606"
      ],
      "text/plain": [
       "[1] 56.15697"
      ]
     },
     "metadata": {},
     "output_type": "display_data"
    }
   ],
   "source": [
    "sum(frmgham_1visit_data$SEX == 2) #this counts the number of times the SEX variable equals 2 (i.e. female)\n",
    "(sum(frmgham_1visit_data$SEX == 2) / nrow(frmgham_1visit_data)) * 100 \n",
    "#this last line of code takes the number of females, divides by the number of rows of data (i.e. \n",
    "#total number of participants), then times by 100 to get the %"
   ]
  },
  {
   "cell_type": "markdown",
   "metadata": {},
   "source": [
    "From which we can see that there were 2490 females in the dataset, which corresponds to 56.2% of the dataset. \n",
    "\n",
    "__Activity: In the below empty code cell, write code (or copy from above and modify) that calculates the number of patitents with diabetes, and calculate the proportion of the dataset this corresponds to.__"
   ]
  },
  {
   "cell_type": "code",
   "execution_count": 13,
   "metadata": {},
   "outputs": [],
   "source": [
    "##You can write R code here, then click the \"Run\" button in the toolbar at the top to execute your code."
   ]
  },
  {
   "cell_type": "markdown",
   "metadata": {},
   "source": [
    "So far in this workshop, we have considered calculating computing single summary measures. However, as we have covered in other modules of this course, graphical displays can be very powerful, particularly for communication. Therefore, you might want to consider incorperating graphical plots into your statistical anaysis plans (for both DTP case studies, and generally in other projects). We will not delve deep into this topic (which was covered in-depth in the Princples of Health Data Analytics module), but as a recap some plots ou could consider are boxplots, histograms, and scatter plots. \n",
    "\n",
    "For example, consider the following: - what does the output tell us?"
   ]
  },
  {
   "cell_type": "code",
   "execution_count": 14,
   "metadata": {},
   "outputs": [
    {
     "data": {
      "image/png": "[encoded data removed]",
      "text/plain": [
       "plot without title"
      ]
     },
     "metadata": {},
     "output_type": "display_data"
    }
   ],
   "source": [
    "boxplot(frmgham_1visit_data$SYSBP)"
   ]
  },
  {
   "cell_type": "code",
   "execution_count": 15,
   "metadata": {},
   "outputs": [
    {
     "data": {
      "image/png": "[encoded data removed]",
      "text/plain": [
       "Plot with title \"Histogram of frmgham_1visit_data$SYSBP\""
      ]
     },
     "metadata": {},
     "output_type": "display_data"
    }
   ],
   "source": [
    "hist(frmgham_1visit_data$SYSBP)"
   ]
  },
  {
   "cell_type": "code",
   "execution_count": 16,
   "metadata": {},
   "outputs": [
    {
     "data": {
      "image/png": "[encoded data removed]",
      "text/plain": [
       "plot without title"
      ]
     },
     "metadata": {},
     "output_type": "display_data"
    }
   ],
   "source": [
    "plot(frmgham_1visit_data$SYSBP, frmgham_1visit_data$AGE)"
   ]
  },
  {
   "cell_type": "markdown",
   "metadata": {},
   "source": [
    "__Activity:__ You might wish to modify the above code (using the empty code cell below) to create similar plots for the other variables. In each case, consider carefully what the output is telling us (and therefore why you might want to condering planning on such plots at the design stage of writing a proposal)"
   ]
  },
  {
   "cell_type": "code",
   "execution_count": null,
   "metadata": {},
   "outputs": [],
   "source": [
    "##You can write R code here, then click the \"Run\" button in the toolbar at the top to execute your code."
   ]
  },
  {
   "cell_type": "markdown",
   "metadata": {},
   "source": [
    "## Summary of the workshop\n",
    "This workshop activity has just been an introduction to how we can use descriptive statistics to summarise large datasets. Nearly all health research projects will include some form of descriptive statistics. As such, you will usually need to consider what types of summary are relevant for your specific project. Considering both (a) the type of variable, and (b) the measures of location and spread, will be always a good starting point in deciding which is relevant for each individual project. \n",
    "\n",
    "While the above concepts might be familiar to many of you, it is worth noting that they are easily overlooked when designing the project, and especially when it comes to analysing the data (it is very tempting to dive straight into complex analysis when we recieve data for an interesting project!). However, descriptive statistics are a vital first step to explore the data (and find potential errors). In most cases, the first pargraph of a statistical analysis plan will include wording such as: \"continuous variables will be summarised using the mean/median and variance/interquarile range\". The power of describing data before analysing cannot be overstated.\n",
    "\n",
    "## Notes on some of the above activities\n",
    "One of the activities above asked you to consider when it is appropriate to use the mean over the median (and vice versa). Sometimes, you need to decide if calculating the mean or median is most appropriate for what you would like determine. The decision is often based on whether a variable is expected to be skewed. Skewed data have a distribution that is not symmetric, which means that the large values do not balance with the small values. For example, consider a dataset where we have collected length of hospital stay. Most people stay in a hospital for a few days. However, some patients have hospital stays for months on end. If you were to report the mean length of stay, this would be inflated by the few very large lengths of stay. Therefore, in this example, you would likely report the median length of hospital stay, which separates the higher half from the lower half. In general, however, most people report the mean unless you have a good reason for not doing so, such as when we have skewed data like in the hospital example above."
   ]
  }
 ],
 "metadata": {
  "kernelspec": {
   "display_name": "R",
   "language": "R",
   "name": "ir"
  },
  "language_info": {
   "codemirror_mode": "r",
   "file_extension": ".r",
   "mimetype": "text/x-r-source",
   "name": "R",
   "pygments_lexer": "r",
   "version": "3.6.1"
  }
 },
 "nbformat": 4,
 "nbformat_minor": 2
}
